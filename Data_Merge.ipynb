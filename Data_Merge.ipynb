{
 "cells": [
  {
   "cell_type": "markdown",
   "metadata": {},
   "source": [
    "# Data Merging Technique\n",
    "- To integrate the data values\n",
    "- To merge the data from different sources\n",
    "- To merge the data from different formats\n",
    "- To merge the data from different databases\n"
   ]
  },
  {
   "cell_type": "markdown",
   "metadata": {},
   "source": [
    "### Methods used to Merge the Dataset:\n",
    "- 1. Using simple merge method\n",
    "- 2. Using Data Concatenation Method"
   ]
  },
  {
   "cell_type": "markdown",
   "metadata": {},
   "source": [
    "***Import the Libraries***"
   ]
  },
  {
   "cell_type": "code",
   "execution_count": 1,
   "metadata": {},
   "outputs": [],
   "source": [
    "#Import the libraries:\n",
    "import pandas as pd\n",
    "import numpy as np"
   ]
  },
  {
   "cell_type": "code",
   "execution_count": 3,
   "metadata": {},
   "outputs": [
    {
     "data": {
      "text/html": [
       "<div>\n",
       "<style scoped>\n",
       "    .dataframe tbody tr th:only-of-type {\n",
       "        vertical-align: middle;\n",
       "    }\n",
       "\n",
       "    .dataframe tbody tr th {\n",
       "        vertical-align: top;\n",
       "    }\n",
       "\n",
       "    .dataframe thead th {\n",
       "        text-align: right;\n",
       "    }\n",
       "</style>\n",
       "<table border=\"1\" class=\"dataframe\">\n",
       "  <thead>\n",
       "    <tr style=\"text-align: right;\">\n",
       "      <th></th>\n",
       "      <th>id</th>\n",
       "      <th>city</th>\n",
       "      <th>occupation</th>\n",
       "    </tr>\n",
       "  </thead>\n",
       "  <tbody>\n",
       "    <tr>\n",
       "      <th>0</th>\n",
       "      <td>1</td>\n",
       "      <td>Lahore</td>\n",
       "      <td>Teacher</td>\n",
       "    </tr>\n",
       "    <tr>\n",
       "      <th>1</th>\n",
       "      <td>2</td>\n",
       "      <td>Karachi</td>\n",
       "      <td>Lecturer</td>\n",
       "    </tr>\n",
       "    <tr>\n",
       "      <th>2</th>\n",
       "      <td>3</td>\n",
       "      <td>Ismalabad</td>\n",
       "      <td>Lawyer</td>\n",
       "    </tr>\n",
       "  </tbody>\n",
       "</table>\n",
       "</div>"
      ],
      "text/plain": [
       "   id       city occupation\n",
       "0   1     Lahore    Teacher\n",
       "1   2    Karachi   Lecturer\n",
       "2   3  Ismalabad     Lawyer"
      ]
     },
     "execution_count": 3,
     "metadata": {},
     "output_type": "execute_result"
    }
   ],
   "source": [
    "#Make the set:\n",
    "data_1 = {\n",
    "    'id' : [1, 2, 3],\n",
    "    'name' : [\"Anas\", \"Ali\", \"Aslam\"],\n",
    "    'age' : [22, 24, 26]\n",
    "}\n",
    "df_1  = pd.DataFrame(data_1)\n",
    "df_1\n",
    "#Make the Dataset:\n",
    "data_2 = {\n",
    "    'id' : [1, 2, 3],\n",
    "    'city' : ['Lahore', 'Karachi', 'Ismalabad'],\n",
    "    'occupation' : ['Teacher', 'Lecturer', 'Lawyer']\n",
    "}\n",
    "df_2 = pd.DataFrame(data_2)\n",
    "df_2"
   ]
  },
  {
   "cell_type": "markdown",
   "metadata": {},
   "source": [
    "***Data Merge Technique***"
   ]
  },
  {
   "cell_type": "code",
   "execution_count": 5,
   "metadata": {},
   "outputs": [
    {
     "name": "stdout",
     "output_type": "stream",
     "text": [
      "The data is merged: \n",
      "   id   name  age       city occupation\n",
      "0   1   Anas   22     Lahore    Teacher\n",
      "1   2    Ali   24    Karachi   Lecturer\n",
      "2   3  Aslam   26  Ismalabad     Lawyer\n"
     ]
    }
   ],
   "source": [
    "#Merg the dataset on the base of id:\n",
    "merged_df = pd.merge(df_1, df_2, on='id', how='inner')\n",
    "#Print the data:\n",
    "print(f\"The data is merged: \\n{merged_df}\")"
   ]
  },
  {
   "cell_type": "markdown",
   "metadata": {},
   "source": [
    "## Data Concatenation Technique"
   ]
  },
  {
   "cell_type": "code",
   "execution_count": 6,
   "metadata": {},
   "outputs": [],
   "source": [
    "#Import the dataset:\n",
    "import pandas as pd"
   ]
  },
  {
   "cell_type": "code",
   "execution_count": 7,
   "metadata": {},
   "outputs": [],
   "source": [
    "#Make the dataset:\n",
    "data_1 = {\n",
    "    'Name' : ['Ahmad', 'Ali', 'Awais'],\n",
    "    'Age' : [23, 25, 27]\n",
    "}\n",
    "#Make the other data:\n",
    "data_2 = {\n",
    "    'Name' : ['Afiq', 'Saad', 'Zain'],\n",
    "    'Age' : [22, 24, 26]\n",
    "}\n",
    "#Make the other data:\n",
    "data_3 = {\n",
    "    'City' : ['Karachi', 'Lahore', 'Islamabad'],\n",
    "    'Provances' : ['Sindh', 'Punjab', 'Faderal']\n",
    "}\n",
    "#Make the DataFrame \n",
    "df_1 = pd.DataFrame(data_1)\n",
    "df_2 = pd.DataFrame(data_2)\n",
    "df_3 = pd.DataFrame(data_3)"
   ]
  },
  {
   "cell_type": "markdown",
   "metadata": {},
   "source": [
    "***Make the Concatenation of data***"
   ]
  },
  {
   "cell_type": "code",
   "execution_count": 9,
   "metadata": {},
   "outputs": [
    {
     "name": "stdout",
     "output_type": "stream",
     "text": [
      "The Merge Data with Rows: \n",
      "    Name   Age       City Provances\n",
      "0  Ahmad  23.0        NaN       NaN\n",
      "1    Ali  25.0        NaN       NaN\n",
      "2  Awais  27.0        NaN       NaN\n",
      "0   Afiq  22.0        NaN       NaN\n",
      "1   Saad  24.0        NaN       NaN\n",
      "2   Zain  26.0        NaN       NaN\n",
      "0    NaN   NaN    Karachi     Sindh\n",
      "1    NaN   NaN     Lahore    Punjab\n",
      "2    NaN   NaN  Islamabad   Faderal\n",
      "-----------------------\n",
      "The Merge Data in Columns: \n",
      "    Name  Age  Name  Age       City Provances\n",
      "0  Ahmad   23  Afiq   22    Karachi     Sindh\n",
      "1    Ali   25  Saad   24     Lahore    Punjab\n",
      "2  Awais   27  Zain   26  Islamabad   Faderal\n"
     ]
    }
   ],
   "source": [
    "#Concatenate the rows:\n",
    "concatenated_rows = pd.concat([df_1, df_2, df_3])\n",
    "#Concatenate the Columns:\n",
    "concatenated_columns = pd.concat([df_1, df_2, df_3], axis=1)\n",
    "#Print rows:\n",
    "print(f\"The Merge Data with Rows: \\n{concatenated_rows}\")\n",
    "print(\"-----------------------\")\n",
    "#Print the columns:\n",
    "print(f\"The Merge Data in Columns: \\n{concatenated_columns}\")"
   ]
  }
 ],
 "metadata": {
  "kernelspec": {
   "display_name": "pythonl_ml",
   "language": "python",
   "name": "python3"
  },
  "language_info": {
   "codemirror_mode": {
    "name": "ipython",
    "version": 3
   },
   "file_extension": ".py",
   "mimetype": "text/x-python",
   "name": "python",
   "nbconvert_exporter": "python",
   "pygments_lexer": "ipython3",
   "version": "3.10.14"
  }
 },
 "nbformat": 4,
 "nbformat_minor": 2
}
