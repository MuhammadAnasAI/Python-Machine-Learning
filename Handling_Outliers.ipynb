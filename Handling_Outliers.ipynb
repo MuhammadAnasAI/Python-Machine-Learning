{
 "cells": [
  {
   "cell_type": "markdown",
   "metadata": {},
   "source": [
    "# Handing of Outliers\n",
    "- Outliers are the values which looks different from the random values in a dataset\n",
    "- Outliers are the values which are not in the range of the data\n",
    "- Differ from the normal dataset\n"
   ]
  },
  {
   "cell_type": "markdown",
   "metadata": {},
   "source": [
    "## Identify the Outliers:\n",
    "- 1. Abberrent obseravtions\n",
    "- 2. Deviant's\n",
    "- 3. Alunormalies\n"
   ]
  },
  {
   "cell_type": "markdown",
   "metadata": {},
   "source": [
    "### Methods used to solve the Outliers:\n",
    "- 1.Inter Quartile Method (IQR)\n",
    "- 2.Z score method\n",
    "- 3.Mean absolute deviation (MAD)\n"
   ]
  },
  {
   "cell_type": "markdown",
   "metadata": {},
   "source": [
    "### Types of Outliers:\n",
    "- 1. Multivariate Outliers\n",
    "- 2. Univariate Outliers\n",
    "- 3. Local Outliers\n",
    "- 4. Global Outliers\n",
    "- 5. Point Outliers\n",
    "- 6. Contamination Outliers"
   ]
  },
  {
   "cell_type": "markdown",
   "metadata": {},
   "source": [
    "### Information gain with outliers:\n",
    "- 1. Hidden Clues\n",
    "- 2. Data quality\n",
    "- 3. Better Decision Making\n",
    "- 4. Impectfull Data\n",
    "- 5. Improve the Visuallization"
   ]
  },
  {
   "cell_type": "markdown",
   "metadata": {},
   "source": [
    "## Range of Outliers is used Mostly (-3(min) to +3(max))"
   ]
  },
  {
   "cell_type": "markdown",
   "metadata": {},
   "source": [
    "***Import the libraries***"
   ]
  },
  {
   "cell_type": "code",
   "execution_count": 14,
   "metadata": {},
   "outputs": [],
   "source": [
    "#Import the Libraries\n",
    "import pandas as pd\n",
    "import numpy as np\n",
    "import matplotlib.pyplot as plt\n",
    "import seaborn as sns"
   ]
  },
  {
   "cell_type": "markdown",
   "metadata": {},
   "source": [
    "***Applying the Z-Score Method for removing the Outliers***"
   ]
  },
  {
   "cell_type": "code",
   "execution_count": 15,
   "metadata": {},
   "outputs": [
    {
     "data": {
      "text/html": [
       "<div>\n",
       "<style scoped>\n",
       "    .dataframe tbody tr th:only-of-type {\n",
       "        vertical-align: middle;\n",
       "    }\n",
       "\n",
       "    .dataframe tbody tr th {\n",
       "        vertical-align: top;\n",
       "    }\n",
       "\n",
       "    .dataframe thead th {\n",
       "        text-align: right;\n",
       "    }\n",
       "</style>\n",
       "<table border=\"1\" class=\"dataframe\">\n",
       "  <thead>\n",
       "    <tr style=\"text-align: right;\">\n",
       "      <th></th>\n",
       "      <th>Age</th>\n",
       "    </tr>\n",
       "  </thead>\n",
       "  <tbody>\n",
       "    <tr>\n",
       "      <th>0</th>\n",
       "      <td>12</td>\n",
       "    </tr>\n",
       "    <tr>\n",
       "      <th>1</th>\n",
       "      <td>13</td>\n",
       "    </tr>\n",
       "    <tr>\n",
       "      <th>2</th>\n",
       "      <td>14</td>\n",
       "    </tr>\n",
       "    <tr>\n",
       "      <th>3</th>\n",
       "      <td>15</td>\n",
       "    </tr>\n",
       "    <tr>\n",
       "      <th>4</th>\n",
       "      <td>16</td>\n",
       "    </tr>\n",
       "  </tbody>\n",
       "</table>\n",
       "</div>"
      ],
      "text/plain": [
       "   Age\n",
       "0   12\n",
       "1   13\n",
       "2   14\n",
       "3   15\n",
       "4   16"
      ]
     },
     "execution_count": 15,
     "metadata": {},
     "output_type": "execute_result"
    }
   ],
   "source": [
    "#Make the dataset:\n",
    "df = pd.DataFrame({\n",
    "    'Age' : [12, 13, 14, 15, 16, 17, 18, 19, 20, 50]\n",
    "})\n",
    "#Check the rows of dataset:\n",
    "df.head()"
   ]
  },
  {
   "cell_type": "code",
   "execution_count": 16,
   "metadata": {},
   "outputs": [
    {
     "name": "stdout",
     "output_type": "stream",
     "text": [
      "Z-score: 0   -0.669234\n",
      "1   -0.578797\n",
      "2   -0.488360\n",
      "3   -0.397923\n",
      "4   -0.307486\n",
      "5   -0.217049\n",
      "6   -0.126612\n",
      "7   -0.036175\n",
      "8    0.054262\n",
      "9    2.767371\n",
      "Name: z-score, dtype: float64\n",
      "---------------------------------\n",
      "The value of Outlier is: \n",
      "   Age   z-score\n",
      "0   12 -0.669234\n",
      "1   13 -0.578797\n",
      "2   14 -0.488360\n",
      "3   15 -0.397923\n",
      "4   16 -0.307486\n",
      "5   17 -0.217049\n",
      "6   18 -0.126612\n",
      "7   19 -0.036175\n",
      "8   20  0.054262\n"
     ]
    }
   ],
   "source": [
    "#Mean of dataset:\n",
    "mean = df['Age'].mean()\n",
    "#Check the standard deviation of dataset:\n",
    "std = df['Age'].std()\n",
    "# Make the Z-score method:\n",
    "df['z-score'] = (df['Age']-mean) / std\n",
    "#Print the z-score with f string:\n",
    "print(f'Z-score: {df[\"z-score\"]}')\n",
    "#Remove the Outliers:\n",
    "df = df[df[\"z-score\"] <= 2]\n",
    "#Print the dataset with f string:\n",
    "print(\"---------------------------------\")\n",
    "print(f'The value of Outlier is: \\n{df}')\n",
    "\n"
   ]
  },
  {
   "cell_type": "markdown",
   "metadata": {},
   "source": [
    "### Apply the Statistical Model for removing of Outliers\n",
    "- Apply Z-score Method to remove the Outlier"
   ]
  },
  {
   "cell_type": "code",
   "execution_count": 17,
   "metadata": {},
   "outputs": [],
   "source": [
    "#Import the Library\n",
    "from scipy import stats"
   ]
  },
  {
   "cell_type": "code",
   "execution_count": 18,
   "metadata": {},
   "outputs": [
    {
     "name": "stdout",
     "output_type": "stream",
     "text": [
      "The value of data: \n",
      "[2.5, 2.7, 2.8, 3.0, 3.2, 3.4, 3.6, 3.8, 4.0, 110.0]\n",
      "------------------------\n",
      "The value of Outliers:[9]\n",
      "-------------------------\n",
      "Outliers: [110.0]\n",
      "--------------------------\n",
      "The value of data: \n",
      "[2.5, 2.7, 2.8, 3.0, 3.2, 3.4, 3.6, 3.8, 4.0]\n"
     ]
    }
   ],
   "source": [
    "#Make a Data Frame:\n",
    "data = [2.5, 2.7, 2.8, 3.0, 3.2, 3.4, 3.6, 3.8, 4.0, 110.0]\n",
    "#Apply z-score method with stats:\n",
    "z_score = np.abs(stats.zscore(data)) \n",
    "#Give a thershod value:\n",
    "thershod = 2\n",
    "#Find the outliers:\n",
    "outliers = np.where(z_score > thershod)[0]\n",
    "#Print the results:\n",
    "print(f\"The value of data: \\n{data}\")\n",
    "print(\"------------------------\")\n",
    "#Print the outlier:\n",
    "print(f\"The value of Outliers:{outliers}\")\n",
    "print(\"-------------------------\")\n",
    "#Print the values:\n",
    "print(f\"Outliers:\", [data[i] for i in outliers])\n",
    "#Remove the outlier:\n",
    "data = [data[i] for i in range (len(data)) if i not in outliers]\n",
    "print(\"--------------------------\")\n",
    "#Print the data:\n",
    "print(f\"The value of data: \\n{data}\")\n",
    "\n"
   ]
  },
  {
   "cell_type": "markdown",
   "metadata": {},
   "source": [
    "### To remove the Outlier , we use the IQR Method:\n",
    "- Upper bound - lower bound\n",
    "- Upper bound = Q3 + 1.5 * IQR\n",
    "- Lower bound = Q1 - 1.5 * IQR\n"
   ]
  },
  {
   "cell_type": "markdown",
   "metadata": {},
   "source": [
    "***Use the K-Means Clustering method of Machine Learning***"
   ]
  },
  {
   "cell_type": "code",
   "execution_count": 19,
   "metadata": {},
   "outputs": [],
   "source": [
    "#Import the Library of Machine Learning:\n",
    "from sklearn.cluster import KMeans"
   ]
  },
  {
   "cell_type": "code",
   "execution_count": 27,
   "metadata": {},
   "outputs": [
    {
     "name": "stdout",
     "output_type": "stream",
     "text": [
      "The value of data: [[2, 2], [3, 3], [3, 4], [30, 30], [31, 31], [32, 32]]\n",
      "The value of Outliers:[[30, 30], [31, 31], [32, 32]]\n",
      "The value of data after removing outliers: [[2, 2], [3, 3], [3, 4]]\n"
     ]
    }
   ],
   "source": [
    "#Make a Dataset:\n",
    "data = [[2, 2], [3, 3], [3, 4], [30, 30], [31, 31], [32, 32]]\n",
    "#Make a Model of KMeans Clustering:\n",
    "kmeans = KMeans(n_clusters=2, n_init=10)\n",
    "#Fit the Model on the Data:\n",
    "kmeans.fit(data)\n",
    "#Make the labels:\n",
    "labels = kmeans.predict(data)\n",
    "#Remove the outliers:\n",
    "outliers = [data[i] for i , label in enumerate(labels) if label == 1]\n",
    "#Print the dataset:\n",
    "print(f\"The value of data: {data}\")\n",
    "#Print the outlier:\n",
    "print(f\"The value of Outliers:{outliers}\")\n",
    "#Remove the outlier from the data and print the data:\n",
    "data = [data[i] for i , label in enumerate(labels) if label == 0]\n",
    "print(f\"The value of data after removing outliers: {data}\")\n"
   ]
  },
  {
   "cell_type": "code",
   "execution_count": null,
   "metadata": {},
   "outputs": [],
   "source": []
  }
 ],
 "metadata": {
  "kernelspec": {
   "display_name": "pythonl_ml",
   "language": "python",
   "name": "python3"
  },
  "language_info": {
   "codemirror_mode": {
    "name": "ipython",
    "version": 3
   },
   "file_extension": ".py",
   "mimetype": "text/x-python",
   "name": "python",
   "nbconvert_exporter": "python",
   "pygments_lexer": "ipython3",
   "version": "3.10.14"
  }
 },
 "nbformat": 4,
 "nbformat_minor": 2
}
