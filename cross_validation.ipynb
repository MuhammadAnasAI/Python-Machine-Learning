{
 "cells": [
  {
   "cell_type": "markdown",
   "metadata": {},
   "source": [
    "# Cross Validation\n",
    "- Cross validation is used to compaire the multiple datasets with a matrix from a cross validation.\n",
    "- It is technique used to evalute the model by training and testing by splitting methods\n",
    "- Training set used to train the model and testing set is used to evalute the model performance\n",
    "- A statistical technique used in machine learning and data Analysis to evalute how well a model is able to \n",
    "generalize to new data\n",
    " "
   ]
  },
  {
   "cell_type": "markdown",
   "metadata": {},
   "source": [
    "## Types of Cross Validation:\n",
    "1. K-fold cross validation\n",
    "2. train-test-split\n",
    "3. leave-one-cross validation\n",
    "4. Time-series cross validation\n",
    "5. Group cross validation"
   ]
  },
  {
   "cell_type": "markdown",
   "metadata": {},
   "source": [
    "### K-fold Cross Validation\n",
    "- In this method Avalible data divided into the k number of equal parts for training of data\n",
    "-  Use a Naive Bayes theroem as GaussianNB as a classifier"
   ]
  },
  {
   "cell_type": "markdown",
   "metadata": {},
   "source": [
    "***Import the libraries from sklearn***"
   ]
  },
  {
   "cell_type": "code",
   "execution_count": 1,
   "metadata": {},
   "outputs": [],
   "source": [
    "#Import the sklearn libraries:\n",
    "from sklearn.model_selection import cross_val_score\n",
    "from sklearn.naive_bayes import GaussianNB"
   ]
  },
  {
   "cell_type": "markdown",
   "metadata": {},
   "source": [
    "***Load the dataset from sklearn***"
   ]
  },
  {
   "cell_type": "code",
   "execution_count": 3,
   "metadata": {},
   "outputs": [],
   "source": [
    "#Load the dataset from sklearn:\n",
    "from sklearn.datasets import load_iris\n",
    "iris = load_iris()"
   ]
  },
  {
   "cell_type": "markdown",
   "metadata": {},
   "source": [
    "***Apply the Naive Bayse Theroem (GassianNB)***"
   ]
  },
  {
   "cell_type": "code",
   "execution_count": 4,
   "metadata": {},
   "outputs": [],
   "source": [
    "#Apply the Naive Bayes theroem as classifier:\n",
    "nb = GaussianNB()"
   ]
  },
  {
   "cell_type": "markdown",
   "metadata": {},
   "source": [
    "***Appling the K-fold***"
   ]
  },
  {
   "cell_type": "code",
   "execution_count": 5,
   "metadata": {},
   "outputs": [],
   "source": [
    "#Select the scores:\n",
    "scores = cross_val_score(nb, iris.data, iris.target, cv=5, scoring='accuracy')"
   ]
  },
  {
   "cell_type": "code",
   "execution_count": 7,
   "metadata": {},
   "outputs": [
    {
     "name": "stdout",
     "output_type": "stream",
     "text": [
      "Scores:  [0.93333333 0.96666667 0.93333333 0.93333333 1.        ]\n",
      "Scores Mean:  0.9533333333333334\n",
      "Scores std:  0.02666666666666666\n"
     ]
    }
   ],
   "source": [
    "#Print the k_folder & mean score:\n",
    "print(\"Scores: \", scores)\n",
    "print(\"Scores Mean: \", scores.mean())\n",
    "print(\"Scores std: \", scores.std())\n"
   ]
  },
  {
   "cell_type": "code",
   "execution_count": null,
   "metadata": {},
   "outputs": [],
   "source": []
  }
 ],
 "metadata": {
  "kernelspec": {
   "display_name": "pythonl_ml",
   "language": "python",
   "name": "python3"
  },
  "language_info": {
   "codemirror_mode": {
    "name": "ipython",
    "version": 3
   },
   "file_extension": ".py",
   "mimetype": "text/x-python",
   "name": "python",
   "nbconvert_exporter": "python",
   "pygments_lexer": "ipython3",
   "version": "3.10.14"
  }
 },
 "nbformat": 4,
 "nbformat_minor": 2
}
